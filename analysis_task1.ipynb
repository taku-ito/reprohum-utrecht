{
 "cells": [
  {
   "cell_type": "code",
   "execution_count": 2,
   "id": "a6c3c2bb",
   "metadata": {},
   "outputs": [],
   "source": [
    "import pandas as pd\n",
    "from sklearn.metrics import cohen_kappa_score\n",
    "import numpy as np\n",
    "from util import read_excelfile, detect_annotation_errors"
   ]
  },
  {
   "cell_type": "code",
   "execution_count": 3,
   "id": "cd6bba7d",
   "metadata": {},
   "outputs": [],
   "source": [
    "files = ['data/participant1_task1.xlsx',\n",
    "         'data/participant2_task1.xlsx',\n",
    "         'data/participant3_task1.xlsx']"
   ]
  },
  {
   "cell_type": "code",
   "execution_count": 4,
   "id": "92955a54",
   "metadata": {},
   "outputs": [],
   "source": [
    "def get_scores_from_df(df, category, ignore_indices=[]):\n",
    "    res = []\n",
    "    for i, line in enumerate(df[category].values.tolist()):\n",
    "        if i in ignore_indices:\n",
    "            continue\n",
    "            \n",
    "        if line in ['Informativeness', 'Non-redundancy', 'Fluency']:\n",
    "            pass\n",
    "        elif isinstance(line, str):\n",
    "            for i in line.replace('，', ',').split(','):\n",
    "                res.append(int(i))\n",
    "        else:\n",
    "            res.append(int(line))\n",
    "    return res"
   ]
  },
  {
   "cell_type": "code",
   "execution_count": 5,
   "id": "c9679d88",
   "metadata": {},
   "outputs": [],
   "source": [
    "df_p1 = read_excelfile(files[0])\n",
    "df_p2 = read_excelfile(files[1])\n",
    "df_p3 = read_excelfile(files[2])"
   ]
  },
  {
   "cell_type": "code",
   "execution_count": 6,
   "id": "6dc50df7",
   "metadata": {},
   "outputs": [
    {
     "name": "stdout",
     "output_type": "stream",
     "text": [
      "INFO: there are no annotation errors\n"
     ]
    }
   ],
   "source": [
    "for df in (df_p1, df_p2, df_p3):\n",
    "    errors = detect_annotation_errors(df)\n",
    "    assert all([len(el) == 0 for el in errors.values()]), f'There are annotation errors: {errors}'\n",
    "print('INFO: there are no annotation errors')"
   ]
  },
  {
   "cell_type": "code",
   "execution_count": 7,
   "id": "b4c51656",
   "metadata": {},
   "outputs": [],
   "source": [
    "participant_scores = [get_scores_from_df(v, 'Informativeness') + \\\n",
    "                get_scores_from_df(v, 'Non-redundancy') + \\\n",
    "                  get_scores_from_df(v, 'Fluency') for v in [df_p1, df_p2, df_p3]]"
   ]
  },
  {
   "cell_type": "code",
   "execution_count": 8,
   "id": "16d51547",
   "metadata": {},
   "outputs": [
    {
     "name": "stdout",
     "output_type": "stream",
     "text": [
      "k_12 = 0.52\n",
      "k_23 = 0.42\n",
      "k_31 = 0.51\n"
     ]
    }
   ],
   "source": [
    "cohen_kappa_scores = [cohen_kappa_score(participant_scores[i], participant_scores[(i+1)%3]) for i in range(3)]\n",
    "for i in range(3):\n",
    "    print(f'k_{i+1}{(i+1)%3+1} = {cohen_kappa_scores[i]:.2f}')"
   ]
  },
  {
   "cell_type": "code",
   "execution_count": 9,
   "id": "d8629820",
   "metadata": {},
   "outputs": [
    {
     "name": "stdout",
     "output_type": "stream",
     "text": [
      "k_mean = 0.48\n"
     ]
    }
   ],
   "source": [
    "print(f'k_mean = {sum(cohen_kappa_scores) / len(cohen_kappa_scores):.2f}')"
   ]
  },
  {
   "cell_type": "code",
   "execution_count": null,
   "id": "afa4cd8b-afc7-47f3-bea2-093b3c3e7a59",
   "metadata": {},
   "outputs": [],
   "source": []
  }
 ],
 "metadata": {
  "kernelspec": {
   "display_name": "Python 3 (ipykernel)",
   "language": "python",
   "name": "python3"
  },
  "language_info": {
   "codemirror_mode": {
    "name": "ipython",
    "version": 3
   },
   "file_extension": ".py",
   "mimetype": "text/x-python",
   "name": "python",
   "nbconvert_exporter": "python",
   "pygments_lexer": "ipython3",
   "version": "3.11.4"
  }
 },
 "nbformat": 4,
 "nbformat_minor": 5
}
